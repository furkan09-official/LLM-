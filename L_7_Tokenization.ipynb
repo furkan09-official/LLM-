{
 "cells": [
  {
   "cell_type": "code",
   "execution_count": 77,
   "id": "1f153e5c",
   "metadata": {},
   "outputs": [],
   "source": [
    "import numpy as np\n",
    "import pandas  as pd"
   ]
  },
  {
   "cell_type": "code",
   "execution_count": 78,
   "id": "dd2b8950",
   "metadata": {},
   "outputs": [
    {
     "name": "stdout",
     "output_type": "stream",
     "text": [
      "I HAD always thought Jack Gisburn rather a cheap genius--though a good fellow enough--so it was no great surprise to me to hear that, in the height of his glory, he had dropped his painting, married a rich widow, and established himself in a villa on the Riviera. (Though I rather thought it would have been Rome or Florence.)\n",
      "\n",
      "\"The height of his glory\"--that was what the women called it. I can hear Mrs. Gideon Thwing--his last Chicago sitter--deploring his unaccountable abdication. \"Of course it's going to send the value of my picture 'way up; but I don't think of that, Mr. Rickham--the loss to Arrt is all I think of.\" The word, on Mrs. Thwing's lips, multiplied its _rs_ as though they were reflected in an endless vista of mirrors. And it was not only the Mrs. Thwings who mourned. Had not the exquisite Hermia Croft, at the last Grafton Gallery show, stopped me before Gisburn's \"Moon-dancers\" to say, with tears in her eyes: \"We shall not look upon its like again\"?\n",
      "\n",
      "Well!--even through the prism of Hermia's tears I felt able to face the fact with equanimity. Poor Jack Gisburn! The women had made him--it was fitting that they should mourn him. Among his own sex fewer regrets were heard, and in his own trade hardly a murmur. Professional jealousy? Perhaps. If it were, the honour of the craft was vindicated by little Claude Nutley, who, in all good faith, brought out in the Burlington a very handsome \"obituary\" on Jack--one of those showy articles stocked with random technicalities that I have heard (I won't say by whom) compared to Gisburn's painting. And so--his resolve being apparently irrevocable--the discussion gradually died out, and, as Mrs. Thwing had predicted, the price of \"Gisburns\" went up.\n",
      "\n",
      "It was not till three years later that, in the course of a few weeks' idling on the Riviera, it suddenly occurred to me to wonder why Gisburn had given up his painting. On reflection, it really was a tempting problem. To accuse his wife would have been too easy--his fair sitters had been denied the solace of saying that Mrs. Gisburn had \"dragged him down.\" For Mrs. Gisburn--as such--had not existed till nearly a year after Jack's resolve had been taken. It might be that he had married her--since he liked his ease--because he didn't want to go on painting; but it would have been hard to prove that he had given up his painting because he had married her.\n",
      "\n",
      "Of course, if she had not dragged him down, she had equally, as Miss Croft contended, failed to \"lift him up\"--she had not led him back to the easel. To put the brush into his hand again--what a vocation for a wife! But Mrs. Gisburn appeared to have disdained it--and I felt it might be interesting to find out why.\n",
      "\n",
      "The desultory life of the Riviera lends itself to such purely academic speculations; and having, on my way to Monte Carlo, caught a glimpse of Jack's balustraded terraces between the pines, I had myself borne thither the next day.\n",
      "\n",
      "I found the couple at tea beneath their palm-trees; and Mrs. Gisburn's welcome was so genial that, in the ensuing weeks, I claimed it frequently. It was not that my hostess was \"interesting\": on that point I could have given Miss Croft the fullest reassurance. It was just because she was _not_ interesting--if I may be pardoned the bull--that I found her so. For Jack, all his life, had been surrounded by interesting women: they had fostered his art, it had been reared in the hot-house of their adulation. And it was therefore instructive to note what effect the \"deadening atmosphere of mediocrity\" (I quote Miss Croft) was having on him.\n",
      "\n",
      "I have mentioned that Mrs. Gisburn was rich; and it was immediately perceptible that her husband was extracting from this circumstance a delicate but substantial satisfaction. It is, as a rule, the people who scorn money who get most out of it; and Jack's elegant disdain of his wife's big balance enabled him, with an appearance of perfect good-breeding, to transmute it into objects of art and luxury. To the latter, I must add, he remained relatively indifferent; but he was buying Renaissance bronzes and eighteenth-century pictures with a discrimination that bespoke the amplest resources.\n",
      "\n",
      "\"Money's only excuse is to put beauty into circulation,\" was one of the axioms he laid down across the Sevres and silver of an exquisitely appointed luncheon-table, when, on a later day, I had again run over from Monte Carlo; and Mrs. Gisburn, beaming on him, added for my enlightenment: \"Jack is so morbidly sensitive to every form of beauty.\"\n",
      "\n",
      "Poor Jack! It had always been his fate to have women say such things of him: the fact should be set down in extenuation. What struck me now was that, for the first time, he resented the tone. I had seen him, so often, basking under similar tributes--was it the conjugal note that robbed them of their savour? No--for, oddly enough, it became apparent that he was fond of Mrs. Gisburn--fond enough not to see her absurdity. It was his own absurdity he seemed to be wincing under--his own attitude as an object for garlands and incense.\n",
      "\n",
      "\"My dear, since I've chucked painting people don't say that stuff about me--they say it about Victor Grindle,\" was his only protest, as he rose from the table and strolled out onto the sunlit terrace.\n",
      "\n",
      "I glanced after him, struck by his last word. Victor Grindle was, in fact, becoming the man of the moment--as Jack himself, one might put it, had been the man of the hour. The younger artist was said to have formed himself at my friend's feet, and I wondered if a tinge of jealousy underlay the latter's mysterious abdication. But no--for it was not till after that event that the _rose Dubarry_ drawing-rooms had begun to display their \"Grindles.\"\n",
      "\n",
      "I turned to Mrs. Gisburn, who had lingered to give a lump of sugar to her spaniel in the dining-room.\n",
      "\n",
      "\"Why _has_ he chucked painting?\" I asked abruptly.\n",
      "\n",
      "She raised her eyebrows with a hint of good-humoured surprise.\n",
      "\n",
      "\"Oh, he doesn't _have_ to now, you know; and I want him to enjoy himself,\" she said quite simply.\n",
      "\n",
      "I looked about the spacious white-panelled room, with its _famille-verte_ vases repeating the tones of the pale damask curtains, and its eighteenth-century pastels in delicate faded frames.\n",
      "\n",
      "\"Has he chucked his pictures too? I haven't seen a single one in the house.\"\n",
      "\n",
      "A slight shade of constraint crossed Mrs. Gisburn's open countenance. \"It's his ridiculous modesty, you know. He says they're not fit to have about; he's sent them all away except one--my portrait--and that I have to keep upstairs.\"\n",
      "\n",
      "His ridiculous modesty--Jack's modesty about his pictures? My curiosity was growing like the bean-stalk. I said persuasively to my hostess: \"I must really see your portrait, you know.\"\n",
      "\n",
      "She glanced out almost timorously at the terrace where her husband, lounging in a hooded chair, had lit a cigar and drawn the Russian deerhound's head between his knees.\n",
      "\n",
      "\"Well, come while he's not looking,\" she said, with a laugh that tried to hide her nervousness; and I followed her between the marble Emperors of the hall, and up the wide stairs with terra-cotta nymphs poised among flowers at each landing.\n",
      "\n",
      "In the dimmest corner of her boudoir, amid a profusion of delicate and distinguished objects, hung one of the familiar oval canvases, in the inevitable garlanded frame. The mere outline of the frame called up all Gisburn's past!\n",
      "\n",
      "Mrs. Gisburn drew back the window-curtains, moved aside a _jardiniere_ full of pink azaleas, pushed an arm-chair away, and said: \"If you stand here you can just manage to see it. I had it over the mantel-piece, but he wouldn't let it stay.\"\n",
      "\n",
      "Yes--I could just manage to see it--the first portrait of Jack's I had ever had to strain my eyes over! Usually they had the place of honour--say the central panel in a pale yellow or _rose Dubarry_ drawing-room, or a monumental easel placed so that it took the light through curtains of old Venetian point. The more modest place became the picture better; yet, as my eyes grew accustomed to the half-light, all the characteristic qualities came out--all the hesitations disguised as audacities, the tricks of prestidigitation by which, with such consummate skill, he managed to divert attention from the real business of the picture to some pretty irrelevance of detail. Mrs. Gisburn, presenting a neutral surface to work on--forming, as it were, so inevitably the background of her own picture--had lent herself in an unusual degree to the display of this false virtuosity. The picture was one of Jack's \"strongest,\" as his admirers would have put it--it represented, on his part, a swelling of muscles, a congesting of veins, a balancing, straddling and straining, that reminded one of the circus-clown's ironic efforts to lift a feather. It met, in short, at every point the demand of lovely woman to be painted \"strongly\" because she was tired of being painted \"sweetly\"--and yet not to lose an atom of the sweetness.\n",
      "\n",
      "\"It's the last he painted, you know,\" Mrs. Gisburn said with pardonable pride. \"The last but one,\" she corrected herself--\"but the other doesn't count, because he destroyed it.\"\n",
      "\n",
      "\"Destroyed it?\" I was about to follow up this clue when I heard a footstep and saw Jack himself on the threshold.\n",
      "\n",
      "As he stood there, his hands in the pockets of his velveteen coat, the thin brown waves of hair pushed back from his white forehead, his lean sunburnt cheeks furrowed by a smile that lifted the tips of a self-confident moustache, I felt to what a degree he had the same quality as his pictures--the quality of looking cleverer than he was.\n",
      "\n",
      "His wife glanced at him deprecatingly, but his eyes travelled past her to the portrait.\n",
      "\n",
      "\"Mr. Rickham wanted to see it,\" she began, as if excusing herself. He shrugged his shoulders, still smiling.\n",
      "\n",
      "\"Oh, Rickham found me out long ago,\" he said lightly; then, passing his arm through mine: \"Come and see the rest of the house.\"\n",
      "\n",
      "He showed it to me with a kind of naive suburban pride: the bath-rooms, the speaking-tubes, the dress-closets, the trouser-presses--all the complex simplifications of the millionaire's domestic economy. And whenever my wonder paid the expected tribute he said, throwing out his chest a little: \"Yes, I really don't see how people manage to live without that.\"\n",
      "\n",
      "Well--it was just the end one might have foreseen for him. Only he was, through it all and in spite of it all--as he had been through, and in spite of, his pictures--so handsome, so charming, so disarming, that one longed to cry out: \"Be dissatisfied with your leisure!\" as once one had longed to say: \"Be dissatisfied with your work!\"\n",
      "\n",
      "But, with the cry on my lips, my diagnosis suffered an unexpected check.\n",
      "\n",
      "\"This is my own lair,\" he said, leading me into a dark plain room at the end of the florid vista. It was square and brown and leathery: no \"effects\"; no bric-a-brac, none of the air of posing for reproduction in a picture weekly--above all, no least sign of ever having been used as a studio.\n",
      "\n",
      "The fact brought home to me the absolute finality of Jack's break with his old life.\n",
      "\n",
      "\"Don't you ever dabble with paint any more?\" I asked, still looking about for a trace of such activity.\n",
      "\n",
      "\"Never,\" he said briefly.\n",
      "\n",
      "\"Or water-colour--or etching?\"\n",
      "\n",
      "His confident eyes grew dim, and his cheeks paled a little under their handsome sunburn.\n",
      "\n",
      "\"Never think of it, my dear fellow--any more than if I'd never touched a brush.\"\n",
      "\n",
      "And his tone told me in a flash that he never thought of anything else.\n",
      "\n",
      "I moved away, instinctively embarrassed by my unexpected discovery; and as I turned, my eye fell on a small picture above the mantel-piece--the only object breaking the plain oak panelling of the room.\n",
      "\n",
      "\"Oh, by Jove!\" I said.\n",
      "\n",
      "It was a sketch of a donkey--an old tired donkey, standing in the rain under a wall.\n",
      "\n",
      "\"By Jove--a Stroud!\" I cried.\n",
      "\n",
      "He was silent; but I felt him close behind me, breathing a little quickly.\n",
      "\n",
      "\"What a wonder! Made with a dozen lines--but on everlasting foundations. You lucky chap, where did you get it?\"\n",
      "\n",
      "He answered slowly: \"Mrs. Stroud gave it to me.\"\n",
      "\n",
      "\"Ah--I didn't know you even knew the Strouds. He was such an inflexible hermit.\"\n",
      "\n",
      "\"I didn't--till after. . . . She sent for me to paint him when he was dead.\"\n",
      "\n",
      "\"When he was dead? You?\"\n",
      "\n",
      "I must have let a little too much amazement escape through my surprise, for he answered with a deprecating laugh: \"Yes--she's an awful simpleton, you know, Mrs. Stroud. Her only idea was to have him done by a fashionable painter--ah, poor Stroud! She thought it the surest way of proclaiming his greatness--of forcing it on a purblind public. And at the moment I was _the_ fashionable painter.\"\n",
      "\n",
      "\"Ah, poor Stroud--as you say. Was _that_ his history?\"\n",
      "\n",
      "\"That was his history. She believed in him, gloried in him--or thought she did. But she couldn't bear not to have all the drawing-rooms with her. She couldn't bear the fact that, on varnishing days, one could always get near enough to see his pictures. Poor woman! She's just a fragment groping for other fragments. Stroud is the only whole I ever knew.\"\n",
      "\n",
      "\"You ever knew? But you just said--\"\n",
      "\n",
      "Gisburn had a curious smile in his eyes.\n",
      "\n",
      "\"Oh, I knew him, and he knew me--only it happened after he was dead.\"\n",
      "\n",
      "I dropped my voice instinctively. \"When she sent for you?\"\n",
      "\n",
      "\"Yes--quite insensible to the irony. She wanted him vindicated--and by me!\"\n",
      "\n",
      "He laughed again, and threw back his head to look up at the sketch of the donkey. \"There were days when I couldn't look at that thing--couldn't face it. But I forced myself to put it here; and now it's cured me--cured me. That's the reason why I don't dabble any more, my dear Rickham; or rather Stroud himself is the reason.\"\n",
      "\n",
      "For the first time my idle curiosity about my companion turned into a serious desire to understand him better.\n",
      "\n",
      "\"I wish you'd tell me how it happened,\" I said.\n",
      "\n",
      "He stood looking up at the sketch, and twirling between his fingers a cigarette he had forgotten to light. Suddenly he turned toward me.\n",
      "\n",
      "\"I'd rather like to tell you--because I've always suspected you of loathing my work.\"\n",
      "\n",
      "I made a deprecating gesture, which he negatived with a good-humoured shrug.\n",
      "\n",
      "\"Oh, I didn't care a straw when I believed in myself--and now it's an added tie between us!\"\n",
      "\n",
      "He laughed slightly, without bitterness, and pushed one of the deep arm-chairs forward. \"There: make yourself comfortable--and here are the cigars you like.\"\n",
      "\n",
      "He placed them at my elbow and continued to wander up and down the room, stopping now and then beneath the picture.\n",
      "\n",
      "\"How it happened? I can tell you in five minutes--and it didn't take much longer to happen. . . . I can remember now how surprised and pleased I was when I got Mrs. Stroud's note. Of course, deep down, I had always _felt_ there was no one like him--only I had gone with the stream, echoed the usual platitudes about him, till I half got to think he was a failure, one of the kind that are left behind. By Jove, and he _was_ left behind--because he had come to stay! The rest of us had to let ourselves be swept along or go under, but he was high above the current--on everlasting foundations, as you say.\n",
      "\n",
      "\"Well, I went off to the house in my most egregious mood--rather moved, Lord forgive me, at the pathos of poor Stroud's career of failure being crowned by the glory of my painting him! Of course I meant to do the picture for nothing--I told Mrs. Stroud so when she began to stammer something about her poverty. I remember getting off a prodigious phrase about the honour being _mine_--oh, I was princely, my dear Rickham! I was posing to myself like one of my own sitters.\n",
      "\n",
      "\"Then I was taken up and left alone with him. I had sent all my traps in advance, and I had only to set up the easel and get to work. He had been dead only twenty-four hours, and he died suddenly, of heart disease, so that there had been no preliminary work of destruction--his face was clear and untouched. I had met him once or twice, years before, and thought him insignificant and dingy. Now I saw that he was superb.\n",
      "\n",
      "\"I was glad at first, with a merely aesthetic satisfaction: glad to have my hand on such a 'subject.' Then his strange life-likeness began to affect me queerly--as I blocked the head in I felt as if he were watching me do it. The sensation was followed by the thought: if he _were_ watching me, what would he say to my way of working? My strokes began to go a little wild--I felt nervous and uncertain.\n",
      "\n",
      "\"Once, when I looked up, I seemed to see a smile behind his close grayish beard--as if he had the secret, and were amusing himself by holding it back from me. That exasperated me still more. The secret? Why, I had a secret worth twenty of his! I dashed at the canvas furiously, and tried some of my bravura tricks. But they failed me, they crumbled. I saw that he wasn't watching the showy bits--I couldn't distract his attention; he just kept his eyes on the hard passages between. Those were the ones I had always shirked, or covered up with some lying paint. And how he saw through my lies!\n",
      "\n",
      "\"I looked up again, and caught sight of that sketch of the donkey hanging on the wall near his bed. His wife told me afterward it was the last thing he had done--just a note taken with a shaking hand, when he was down in Devonshire recovering from a previous heart attack. Just a note! But it tells his whole history. There are years of patient scornful persistence in every line. A man who had swum with the current could never have learned that mighty up-stream stroke. . . .\n",
      "\n",
      "\"I turned back to my work, and went on groping and muddling; then I looked at the donkey again. I saw that, when Stroud laid in the first stroke, he knew just what the end would be. He had possessed his subject, absorbed it, recreated it. When had I done that with any of my things? They hadn't been born of me--I had just adopted them. . . .\n",
      "\n",
      "\"Hang it, Rickham, with that face watching me I couldn't do another stroke. The plain truth was, I didn't know where to put it--_I had never known_. Only, with my sitters and my public, a showy splash of colour covered up the fact--I just threw paint into their faces. . . . Well, paint was the one medium those dead eyes could see through--see straight to the tottering foundations underneath. Don't you know how, in talking a foreign language, even fluently, one says half the time not what one wants to but what one can? Well--that was the way I painted; and as he lay there and watched me, the thing they called my 'technique' collapsed like a house of cards. He didn't sneer, you understand, poor Stroud--he just lay there quietly watching, and on his lips, through the gray beard, I seemed to hear the question: 'Are you sure you know where you're coming out?'\n",
      "\n",
      "\"If I could have painted that face, with that question on it, I should have done a great thing. The next greatest thing was to see that I couldn't--and that grace was given me. But, oh, at that minute, Rickham, was there anything on earth I wouldn't have given to have Stroud alive before me, and to hear him say: 'It's not too late--I'll show you how'?\n",
      "\n",
      "\"It _was_ too late--it would have been, even if he'd been alive. I packed up my traps, and went down and told Mrs. Stroud. Of course I didn't tell her _that_--it would have been Greek to her. I simply said I couldn't paint him, that I was too moved. She rather liked the idea--she's so romantic! It was that that made her give me the donkey. But she was terribly upset at not getting the portrait--she did so want him 'done' by some one showy! At first I was afraid she wouldn't let me off--and at my wits' end I suggested Grindle. Yes, it was I who started Grindle: I told Mrs. Stroud he was the 'coming' man, and she told somebody else, and so it got to be true. . . . And he painted Stroud without wincing; and she hung the picture among her husband's things. . . .\"\n",
      "\n",
      "He flung himself down in the arm-chair near mine, laid back his head, and clasping his arms beneath it, looked up at the picture above the chimney-piece.\n",
      "\n",
      "\"I like to fancy that Stroud himself would have given it to me, if he'd been able to say what he thought that day.\"\n",
      "\n",
      "And, in answer to a question I put half-mechanically--\"Begin again?\" he flashed out. \"When the one thing that brings me anywhere near him is that I knew enough to leave off?\"\n",
      "\n",
      "He stood up and laid his hand on my shoulder with a laugh. \"Only the irony of it is that I _am_ still painting--since Grindle's doing it for me! The Strouds stand alone, and happen once--but there's no exterminating our kind of art.\"\n",
      "\n"
     ]
    }
   ],
   "source": [
    "with open(\"the-verdict.txt\",\"r\" , encoding  = \"utf-8\") as f:\n",
    "    raw_text = f.read()\n",
    "    print(raw_text)"
   ]
  },
  {
   "cell_type": "code",
   "execution_count": 79,
   "id": "888f971b",
   "metadata": {},
   "outputs": [
    {
     "name": "stdout",
     "output_type": "stream",
     "text": [
      "Total number of characters:  20480\n",
      "First 100 characters from the txt file:  I HAD always thought Jack Gisburn rather a cheap genius--though a good fellow enough--so it was no \n"
     ]
    }
   ],
   "source": [
    "print(\"Total number of characters: \",len(raw_text))\n",
    "print(\"First 100 characters from the txt file: \",raw_text[:99])"
   ]
  },
  {
   "cell_type": "markdown",
   "id": "97d19b4b",
   "metadata": {},
   "source": [
    "Question 1: how can we split the test.\n",
    "ans: by using library called regular expression(re)"
   ]
  },
  {
   "cell_type": "markdown",
   "id": "9e0201b5",
   "metadata": {},
   "source": [
    "<h1>Step 1: splitting text into individual words</h1>"
   ]
  },
  {
   "cell_type": "code",
   "execution_count": null,
   "id": "2d3d8950",
   "metadata": {},
   "outputs": [],
   "source": [
    "import re\n",
    "text = \"hello how, are you. sam\"\n",
    "result = re.split(r'([, .]|\\s)' , text)    # split the text where ever the white space.\n",
    "print(result)"
   ]
  },
  {
   "cell_type": "code",
   "execution_count": null,
   "id": "ca0dcc9c",
   "metadata": {},
   "outputs": [],
   "source": [
    "result = [item for item in result if item.strip()]\n",
    "print(result)"
   ]
  },
  {
   "cell_type": "code",
   "execution_count": null,
   "id": "59065d0e",
   "metadata": {},
   "outputs": [],
   "source": [
    "split_text = re.split(r'(\\s)', raw_text)\n",
    "print(split_text[:99])"
   ]
  },
  {
   "cell_type": "code",
   "execution_count": null,
   "id": "3d5e4ca5",
   "metadata": {},
   "outputs": [],
   "source": [
    "text = \"hello, ;how :are! you ? --there/.\"\n",
    "result = re.split(r'([, : ; / ? !]|--|\\s)', text)\n",
    "result = [item.strip() for item in result if item.strip()]\n",
    "print(result)"
   ]
  },
  {
   "cell_type": "code",
   "execution_count": 80,
   "id": "74e18ce6",
   "metadata": {},
   "outputs": [
    {
     "name": "stdout",
     "output_type": "stream",
     "text": [
      "['I', 'HAD', 'always', 'thought', 'Jack', 'Gisburn', 'rather', 'a', 'cheap', 'genius', '--', 'though', 'a', 'good', 'fellow', 'enough', '--', 'so', 'it', 'was', 'no', 'great', 'surprise', 'to', 'me', 'to', 'hear', 'that', ',', 'in', 'the', 'height', 'of', 'his', 'glory', ',', 'he', 'had', 'dropped', 'his', 'painting', ',', 'married', 'a', 'rich', 'widow', ',', 'and', 'established', 'himself', 'in', 'a', 'villa', 'on', 'the', 'Riviera.', '(Though', 'I', 'rather', 'thought', 'it', 'would', 'have', 'been', 'Rome', 'or', 'Florence.)', '\"The', 'height', 'of', 'his', 'glory\"', '--', 'that', 'was', 'what', 'the', 'women', 'called', 'it.', 'I', 'can', 'hear', 'Mrs.', 'Gideon', 'Thwing', '--', 'his', 'last', 'Chicago', 'sitter', '--', 'deploring', 'his', 'unaccountable', 'abdication.', '\"Of', 'course', \"it's\"]\n",
      "4177\n"
     ]
    }
   ],
   "source": [
    "import re\n",
    "preprocessed = re.split(r'([,:;?!/]|--|\\s)',raw_text)\n",
    "\n",
    "preprocessed = [item.strip() for item in preprocessed if item.strip()]\n",
    "print(preprocessed[:99])\n",
    "print(len(preprocessed))"
   ]
  },
  {
   "cell_type": "markdown",
   "id": "dd195c56",
   "metadata": {},
   "source": [
    "<h1>Step 2: Create the token IDs"
   ]
  },
  {
   "cell_type": "code",
   "execution_count": 81,
   "id": "4f74f517",
   "metadata": {},
   "outputs": [
    {
     "name": "stdout",
     "output_type": "stream",
     "text": [
      "['!', '\"', '\"Ah', '\"Be', '\"Begin', '\"By', '\"Come', '\"Destroyed', '\"Don\\'t', '\"Gisburns\"', '\"Grindles.\"', '\"Hang', '\"Has', '\"How', '\"I', '\"I\\'d', '\"If', '\"It', '\"It\\'s', '\"Jack', '\"Money\\'s', '\"Moon-dancers\"', '\"Mr.', '\"Mrs.', '\"My', '\"Never', '\"Of', '\"Oh', '\"Once', '\"Only', '\"Or', '\"That', '\"The', '\"Then', '\"There', '\"This', '\"We', '\"Well', '\"What', '\"When', '\"Why', '\"Yes', '\"You', '\"but', '\"deadening', '\"dragged', '\"effects\"', '\"interesting\"', '\"lift', '\"obituary\"', '\"strongest', '\"strongly\"', '\"sweetly\"', \"'\", \"'Are\", \"'It's\", \"'coming'\", \"'done'\", \"'subject.'\", \"'technique'\", \"'way\", '(I', '(Though', ',', '--', '.', '.\"', ':', ';', '?', 'A', 'Among', 'And', 'Arrt', 'As', 'At', 'Burlington', 'But', 'By', 'Carlo', 'Chicago', 'Claude', 'Croft', 'Croft)', 'Devonshire', \"Don't\", 'Dubarry_', 'Emperors', 'Florence.)', 'For', 'Gallery', 'Gideon', 'Gisburn', \"Gisburn's\", 'Grafton', 'Greek', 'Grindle', \"Grindle's\", 'Grindle.', 'HAD', 'Had', 'He', 'Her', 'Hermia', \"Hermia's\", 'His', 'I', \"I'd\", \"I'll\", \"I've\", 'If', 'In', 'It', 'Jack', \"Jack's\", 'Jove', 'Just', 'Lord', 'Made', 'Miss', 'Monte', 'Mr.', 'Mrs.', 'My', 'No', 'Now', 'Nutley', 'Of', 'On', 'Only', 'Perhaps.', 'Poor', 'Professional', 'Renaissance', 'Rickham', 'Riviera', 'Riviera.', 'Rome', 'Russian', 'Sevres', 'She', \"She's\", 'Stroud', \"Stroud's\", 'Stroud.', 'Strouds', 'Strouds.', 'Suddenly', 'That', \"That's\", 'The', 'Then', 'There', 'They', 'Those', 'Thwing', \"Thwing's\", 'Thwings', 'To', 'Usually', 'Venetian', 'Victor', 'Was', 'Well', 'What', 'When', 'Why', 'Yes', 'You', '_I', '_am_', '_famille-verte_', '_felt_', '_has_', '_have_', '_jardiniere_', '_mine_', '_not_', '_rose', '_rs_', '_that_', '_the_', '_was_', '_were_', 'a', 'abdication.', 'able', 'about', 'above', 'abruptly.', 'absolute', 'absorbed', 'absurdity', 'absurdity.', 'academic', 'accuse', 'accustomed', 'across', 'activity.', 'add', 'added', 'admirers', 'adopted', 'adulation.', 'advance', 'aesthetic', 'affect', 'afraid', 'after', 'after.', 'afterward', 'again', 'again\"', 'again.', 'ago', 'ah', 'air', 'alive', 'alive.', 'all', 'almost', 'alone', 'along', 'always', 'amazement', 'amid', 'among', 'amplest', 'amusing', 'an', 'and', 'another', 'answer', 'answered', 'any', 'anything', 'anywhere', 'apparent', 'apparently', 'appearance', 'appeared', 'appointed', 'are', 'arm', 'arm-chair', 'arm-chairs', 'arms', 'art', 'art.\"', 'articles', 'artist', 'as', 'aside', 'asked', 'at', 'atmosphere', 'atom', 'attack.', 'attention', 'attitude', 'audacities', 'away', 'awful', 'axioms', 'azaleas', 'back', 'background', 'balance', 'balancing', 'balustraded', 'basking', 'bath-rooms', 'be', 'be.', 'beaming', 'bean-stalk.', 'bear', 'beard', 'beauty', 'beauty.\"', 'became', 'because', 'becoming', 'bed.', 'been', 'before', 'began', 'begun', 'behind', 'behind.', 'being', 'believed', 'beneath', 'bespoke', 'better', 'better.', 'between', 'between.', 'big', 'bits', 'bitterness', 'blocked', 'born', 'borne', 'boudoir', 'bravura', 'break', 'breaking', 'breathing', 'bric-a-brac', 'briefly.', 'brings', 'bronzes', 'brought', 'brown', 'brush', 'brush.\"', 'bull', 'business', 'but', 'buying', 'by', 'called', 'came', 'can', 'canvas', 'canvases', 'cards.', 'care', 'career', 'caught', 'central', 'chair', 'chap', 'characteristic', 'charming', 'cheap', 'check.', 'cheeks', 'chest', 'chimney-piece.', 'chucked', 'cigar', 'cigarette', 'cigars', 'circulation', 'circumstance', \"circus-clown's\", 'claimed', 'clasping', 'clear', 'cleverer', 'close', 'clue', 'coat', 'collapsed', 'colour', 'come', 'comfortable', 'coming', 'companion', 'compared', 'complex', 'confident', 'congesting', 'conjugal', 'constraint', 'consummate', 'contended', 'continued', 'corner', 'corrected', 'could', \"couldn't\", 'count', 'countenance.', 'couple', 'course', 'covered', 'craft', 'cried.', 'crossed', 'crowned', 'crumbled.', 'cry', 'cured', 'curiosity', 'curious', 'current', 'curtains', 'dabble', 'damask', 'dark', 'dashed', 'day', 'day.', 'day.\"', 'days', 'dead', 'dead.\"', 'dear', 'deep', \"deerhound's\", 'degree', 'delicate', 'demand', 'denied', 'deploring', 'deprecating', 'deprecatingly', 'desire', 'destroyed', 'destruction', 'desultory', 'detail.', 'diagnosis', 'did', 'did.', \"didn't\", 'died', 'dim', 'dimmest', 'dingy.', 'dining-room.', 'disarming', 'discovery', 'discrimination', 'discussion', 'disdain', 'disdained', 'disease', 'disguised', 'display', 'dissatisfied', 'distinguished', 'distract', 'divert', 'do', \"doesn't\", 'doing', 'domestic', \"don't\", 'done', 'donkey', 'donkey.', 'down', 'down.\"', 'dozen', 'dragged', 'drawing-room', 'drawing-rooms', 'drawn', 'dress-closets', 'drew', 'dropped', 'each', 'earth', 'ease', 'easel', 'easel.', 'easy', 'echoed', 'economy.', 'effect', 'efforts', 'egregious', 'eighteenth-century', 'elbow', 'elegant', 'else', 'else.', 'embarrassed', 'enabled', 'end', 'endless', 'enjoy', 'enlightenment', 'enough', 'ensuing', 'equally', 'equanimity.', 'escape', 'established', 'etching', 'even', 'event', 'ever', 'everlasting', 'every', 'exasperated', 'except', 'excuse', 'excusing', 'existed', 'expected', 'exquisite', 'exquisitely', 'extenuation.', 'exterminating', 'extracting', 'eye', 'eyebrows', 'eyes', 'eyes.', 'face', 'faces.', 'fact', 'faded', 'failed', 'failure', 'fair', 'faith', 'false', 'familiar', 'fancy', 'fashionable', 'fate', 'feather.', 'feet', 'fell', 'fellow', 'felt', 'few', 'fewer', 'finality', 'find', 'fingers', 'first', 'fit', 'fitting', 'five', 'flash', 'flashed', 'florid', 'flowers', 'fluently', 'flung', 'follow', 'followed', 'fond', 'footstep', 'for', 'forced', 'forcing', 'forehead', 'foreign', 'foreseen', 'forgive', 'forgotten', 'form', 'formed', 'forming', 'forward.', 'fostered', 'found', 'foundations', 'foundations.', 'fragment', 'fragments.', 'frame', 'frame.', 'frames.', 'frequently.', \"friend's\", 'from', 'full', 'fullest', 'furiously', 'furrowed', 'garlanded', 'garlands', 'gave', 'genial', 'genius', 'gesture', 'get', 'getting', 'give', 'given', 'glad', 'glanced', 'glimpse', 'gloried', 'glory', 'glory\"', 'go', 'going', 'gone', 'good', 'good-breeding', 'good-humoured', 'got', 'grace', 'gradually', 'gray', 'grayish', 'great', 'greatest', 'greatness', 'grew', 'groping', 'growing', 'had', \"hadn't\", 'hair', 'half', 'half-light', 'half-mechanically', 'hall', 'hand', 'hands', 'handsome', 'hanging', 'happen', 'happen.', 'happened', 'hard', 'hardly', 'have', \"haven't\", 'having', 'he', \"he'd\", \"he's\", 'head', 'hear', 'heard', 'heart', 'height', 'her', 'her.', 'here', 'hermit.\"', 'herself', 'herself.', 'hesitations', 'hide', 'high', 'him', 'him.', 'himself', 'hint', 'his', 'history', 'history.', 'holding', 'home', 'honour', 'hooded', 'hostess', 'hot-house', 'hour.', 'hours', 'house', 'house.\"', 'how', \"how'\", 'hung', 'husband', \"husband's\", 'idea', 'idle', 'idling', 'if', 'immediately', 'in', 'incense.', 'indifferent', 'inevitable', 'inevitably', 'inflexible', 'insensible', 'insignificant', 'instinctively', 'instinctively.', 'instructive', 'interesting', 'into', 'ironic', 'irony', 'irony.', 'irrelevance', 'irrevocable', 'is', 'it', \"it's\", 'it.', 'it.\"', 'its', 'itself', 'jealousy', 'just', 'keep', 'kept', 'kind', 'knees.', 'knew', 'knew.\"', 'know', 'know.', 'know.\"', 'known_.', 'laid', 'lair', 'landing.', 'language', 'last', 'late', 'later', 'latter', \"latter's\", 'laugh', 'laugh.', 'laughed', 'lay', 'leading', 'lean', 'learned', 'least', 'leathery', 'leave', 'led', 'left', 'leisure', 'lends', 'lent', 'let', 'lies', 'life', 'life-likeness', 'life.', 'lift', 'lifted', 'light', 'light.', 'lightly', 'like', 'like.\"', 'liked', 'line.', 'lines', 'lingered', 'lips', 'lit', 'little', 'live', 'loathing', 'long', 'longed', 'longer', 'look', 'looked', 'looking', 'lose', 'loss', 'lounging', 'lovely', 'lucky', 'lump', 'luncheon-table', 'luxury.', 'lying', 'made', 'make', 'man', 'manage', 'managed', 'mantel-piece', 'marble', 'married', 'may', 'me', 'me.', 'me.\"', 'meant', 'mediocrity\"', 'medium', 'mentioned', 'mere', 'merely', 'met', 'might', 'mighty', \"millionaire's\", 'mine', 'minute', 'minutes', 'mirrors.', 'modest', 'modesty', 'moment', 'money', 'monumental', 'mood', 'morbidly', 'more', 'more.', 'most', 'mourn', 'mourned.', 'moustache', 'moved', 'moved.', 'much', 'muddling', 'multiplied', 'murmur.', 'muscles', 'must', 'my', 'myself', 'mysterious', 'naive', 'near', 'nearly', 'negatived', 'nervous', 'nervousness', 'neutral', 'never', 'next', 'no', 'none', 'not', 'note', 'note.', 'nothing', 'now', 'nymphs', 'oak', 'object', 'objects', 'occurred', 'oddly', 'of', 'of.\"', 'off', 'often', 'oh', 'old', 'on', 'once', 'one', 'ones', 'only', 'onto', 'open', 'or', 'other', 'our', 'ourselves', 'out', 'out.', 'outline', 'oval', 'over', 'own', 'packed', 'paid', 'paint', 'paint.', 'painted', 'painter', 'painter.\"', 'painting', 'painting.', 'pale', 'paled', 'palm-trees', 'panel', 'panelling', 'pardonable', 'pardoned', 'part', 'passages', 'passing', 'past', 'pastels', 'pathos', 'patient', 'people', 'perceptible', 'perfect', 'persistence', 'persuasively', 'phrase', 'picture', 'picture.', 'pictures', 'pictures.', 'pines', 'pink', 'place', 'placed', 'plain', 'platitudes', 'pleased', 'pockets', 'point', 'point.', 'poised', 'poor', 'portrait', 'portrait.', 'posing', 'possessed', 'poverty.', 'predicted', 'preliminary', 'presenting', 'prestidigitation', 'pretty', 'previous', 'price', 'pride', 'pride.', 'princely', 'prism', 'problem.', 'proclaiming', 'prodigious', 'profusion', 'protest', 'prove', 'public', 'public.', 'purblind', 'purely', 'pushed', 'put', 'qualities', 'quality', 'queerly', 'question', 'quickly.', 'quietly', 'quite', 'quote', 'rain', 'raised', 'random', 'rather', 'real', 'really', 'reared', 'reason', 'reason.\"', 'reassurance.', 'recovering', 'recreated', 'reflected', 'reflection', 'regrets', 'relatively', 'remained', 'remember', 'reminded', 'repeating', 'represented', 'reproduction', 'resented', 'resolve', 'resources.', 'rest', 'rich', 'ridiculous', 'robbed', 'romantic', 'room', 'room.', 'rose', 'rule', 'run', 'said', 'said.', 'same', 'satisfaction', 'satisfaction.', 'savour', 'saw', 'say', 'say.', 'saying', 'says', 'scorn', 'scornful', 'secret', 'see', 'seemed', 'seen', 'self-confident', 'send', 'sensation', 'sensitive', 'sent', 'serious', 'set', 'sex', 'shade', 'shaking', 'shall', 'she', \"she's\", 'shirked', 'short', 'should', 'shoulder', 'shoulders', 'show', 'showed', 'showy', 'shrug.', 'shrugged', 'sight', 'sign', 'silent', 'silver', 'similar', 'simpleton', 'simplifications', 'simply', 'simply.', 'since', 'single', 'sitter', 'sitters', 'sitters.', 'sketch', 'skill', 'slight', 'slightly', 'slowly', 'small', 'smile', 'smiling.', 'sneer', 'so', 'so.', 'solace', 'some', 'somebody', 'something', 'spacious', 'spaniel', 'speaking-tubes', 'speculations', 'spite', 'splash', 'square', 'stairs', 'stammer', 'stand', 'standing', 'started', 'stay', 'stay.\"', 'still', 'stocked', 'stood', 'stopped', 'stopping', 'straddling', 'straight', 'strain', 'straining', 'strange', 'straw', 'stream', 'stroke', 'stroke.', 'strokes', 'strolled', 'struck', 'studio.', 'stuff', 'subject', 'substantial', 'suburban', 'such', 'suddenly', 'suffered', 'sugar', 'suggested', 'sunburn.', 'sunburnt', 'sunlit', 'superb.', 'sure', 'surest', 'surface', 'surprise', 'surprise.', 'surprised', 'surrounded', 'suspected', 'sweetness.', 'swelling', 'swept', 'swum', 'table', 'take', 'taken', 'taken.', 'talking', 'tea', 'tears', 'technicalities', 'tell', 'tells', 'tempting', 'terra-cotta', 'terrace', 'terrace.', 'terraces', 'terribly', 'than', 'that', 'that.\"', 'the', 'their', 'them', 'them.', 'then', 'there', \"there's\", 'therefore', 'they', \"they're\", 'thin', 'thing', 'thing.', 'things', 'things.', 'think', 'this', 'thither', 'those', 'though', 'thought', 'three', 'threshold.', 'threw', 'through', 'throwing', 'tie', 'till', 'time', 'timorously', 'tinge', 'tips', 'tired', 'to', 'told', 'tone', 'tone.', 'tones', 'too', 'took', 'tottering', 'touched', 'toward', 'trace', 'trade', 'transmute', 'traps', 'travelled', 'tribute', 'tributes', 'tricks', 'tricks.', 'tried', 'trouser-presses', 'true.', 'truth', 'turned', 'twenty', 'twenty-four', 'twice', 'twirling', 'unaccountable', 'uncertain.', 'under', 'underlay', 'underneath.', 'understand', 'unexpected', 'untouched.', 'unusual', 'up', 'up\"', 'up-stream', 'up.', 'upon', 'upset', 'upstairs.\"', 'us', 'used', 'usual', 'value', 'varnishing', 'vases', 'veins', 'velveteen', 'very', 'villa', 'vindicated', 'virtuosity.', 'vista', 'vista.', 'vocation', 'voice', 'wall', 'wall.', 'wander', 'want', 'wanted', 'wants', 'was', 'was.', \"wasn't\", 'watched', 'watching', 'water-colour', 'waves', 'way', 'weekly', 'weeks', \"weeks'\", 'welcome', 'went', 'were', 'what', 'when', 'whenever', 'where', 'which', 'while', 'white', 'white-panelled', 'who', 'whole', 'whom)', 'why', 'why.', 'wide', 'widow', 'wife', \"wife's\", 'wild', 'wincing', 'window-curtains', 'wish', 'with', 'without', \"wits'\", 'woman', 'women', \"won't\", 'wonder', 'wondered', 'word', 'word.', 'work', 'work.', 'work.\"', 'working', 'worth', 'would', \"wouldn't\", 'year', 'years', 'yellow', 'yet', 'you', \"you'd\", \"you're\", 'younger', 'your', 'yourself']\n"
     ]
    }
   ],
   "source": [
    "all_words = sorted(set(preprocessed))\n",
    "print(all_words)"
   ]
  },
  {
   "cell_type": "markdown",
   "id": "fb47043b",
   "metadata": {},
   "source": [
    "<h4 style = \"color:green; background:pink;\">after determining the len of vocabulary we can create the vocabulary(which contain tokens along with the unique integer)"
   ]
  },
  {
   "cell_type": "code",
   "execution_count": 82,
   "id": "5420d5b8",
   "metadata": {},
   "outputs": [
    {
     "name": "stdout",
     "output_type": "stream",
     "text": [
      "('!', 0)\n",
      "('\"', 1)\n",
      "('\"Ah', 2)\n",
      "('\"Be', 3)\n",
      "('\"Begin', 4)\n",
      "('\"By', 5)\n",
      "('\"Come', 6)\n",
      "('\"Destroyed', 7)\n",
      "('\"Don\\'t', 8)\n",
      "('\"Gisburns\"', 9)\n",
      "('\"Grindles.\"', 10)\n",
      "('\"Hang', 11)\n",
      "('\"Has', 12)\n",
      "('\"How', 13)\n",
      "('\"I', 14)\n",
      "('\"I\\'d', 15)\n",
      "('\"If', 16)\n",
      "('\"It', 17)\n",
      "('\"It\\'s', 18)\n",
      "('\"Jack', 19)\n",
      "('\"Money\\'s', 20)\n",
      "('\"Moon-dancers\"', 21)\n",
      "('\"Mr.', 22)\n",
      "('\"Mrs.', 23)\n",
      "('\"My', 24)\n",
      "('\"Never', 25)\n",
      "('\"Of', 26)\n",
      "('\"Oh', 27)\n",
      "('\"Once', 28)\n",
      "('\"Only', 29)\n",
      "('\"Or', 30)\n",
      "('\"That', 31)\n",
      "('\"The', 32)\n",
      "('\"Then', 33)\n",
      "('\"There', 34)\n",
      "('\"This', 35)\n",
      "('\"We', 36)\n",
      "('\"Well', 37)\n",
      "('\"What', 38)\n",
      "('\"When', 39)\n",
      "('\"Why', 40)\n",
      "('\"Yes', 41)\n",
      "('\"You', 42)\n",
      "('\"but', 43)\n",
      "('\"deadening', 44)\n",
      "('\"dragged', 45)\n",
      "('\"effects\"', 46)\n",
      "('\"interesting\"', 47)\n",
      "('\"lift', 48)\n",
      "('\"obituary\"', 49)\n",
      "('\"strongest', 50)\n"
     ]
    }
   ],
   "source": [
    "vocab = {token: integer for integer,token in enumerate(all_words)}\n",
    "for i , item in enumerate(vocab.items()):\n",
    "    print(item)\n",
    "    if i>= 50:\n",
    "        break\n"
   ]
  },
  {
   "cell_type": "code",
   "execution_count": 83,
   "id": "2e86fe28",
   "metadata": {},
   "outputs": [],
   "source": [
    "class TokenizerV1:\n",
    "    def __init__(self , vocab):\n",
    "        self.str_to_int = vocab\n",
    "        self.int_to_str = {i:s for s,i in vocab.items()}\n",
    "    \n",
    "    def encoder(self , text):\n",
    "        preprocessed = re.split(r'(--|__|[,:.;\"!?/\\s])', text)    # splitting the text\n",
    "        preprocessed = [item.strip() for item in preprocessed if item.strip()]   # removing the white spaces\n",
    "\n",
    "        Ids = [self.str_to_int[s] for s in preprocessed]\n",
    "        return Ids\n",
    "    \n",
    "    def decode(self , Ids):\n",
    "        text = \" \".join([self.int_to_str[i] for i in Ids])\n",
    "        # replace spaces before specified punchuatiions\n",
    "        text = re.sub(r'\\s+[.,?!\"()\\']','r\\1',text)\n",
    "        return text"
   ]
  },
  {
   "cell_type": "code",
   "execution_count": 84,
   "id": "5d2da87e",
   "metadata": {},
   "outputs": [
    {
     "name": "stdout",
     "output_type": "stream",
     "text": [
      "False\n"
     ]
    }
   ],
   "source": [
    "print('abruptly' in vocab)"
   ]
  },
  {
   "cell_type": "code",
   "execution_count": 85,
   "id": "3a461f51",
   "metadata": {},
   "outputs": [
    {
     "ename": "KeyError",
     "evalue": "'abruptly'",
     "output_type": "error",
     "traceback": [
      "\u001b[1;31m---------------------------------------------------------------------------\u001b[0m",
      "\u001b[1;31mKeyError\u001b[0m                                  Traceback (most recent call last)",
      "Cell \u001b[1;32mIn[85], line 4\u001b[0m\n\u001b[0;32m      1\u001b[0m tokenizer \u001b[38;5;241m=\u001b[39m TokenizerV1(vocab)\n\u001b[0;32m      2\u001b[0m text \u001b[38;5;241m=\u001b[39m \u001b[38;5;124m\"\"\"\u001b[39m\u001b[38;5;124mWhy _has_ he chucked painting?\u001b[39m\u001b[38;5;124m\"\u001b[39m\u001b[38;5;124m I asked abruptly.\u001b[39m\u001b[38;5;124m\"\"\"\u001b[39m\n\u001b[1;32m----> 4\u001b[0m Ids \u001b[38;5;241m=\u001b[39m tokenizer\u001b[38;5;241m.\u001b[39mencoder(text)\n\u001b[0;32m      5\u001b[0m \u001b[38;5;28mprint\u001b[39m(Ids)\n",
      "Cell \u001b[1;32mIn[83], line 10\u001b[0m, in \u001b[0;36mTokenizerV1.encoder\u001b[1;34m(self, text)\u001b[0m\n\u001b[0;32m      7\u001b[0m preprocessed \u001b[38;5;241m=\u001b[39m re\u001b[38;5;241m.\u001b[39msplit(\u001b[38;5;124mr\u001b[39m\u001b[38;5;124m'\u001b[39m\u001b[38;5;124m(--|__|[,:.;\u001b[39m\u001b[38;5;124m\"\u001b[39m\u001b[38;5;124m!?/\u001b[39m\u001b[38;5;124m\\\u001b[39m\u001b[38;5;124ms])\u001b[39m\u001b[38;5;124m'\u001b[39m, text)    \u001b[38;5;66;03m# splitting the text\u001b[39;00m\n\u001b[0;32m      8\u001b[0m preprocessed \u001b[38;5;241m=\u001b[39m [item\u001b[38;5;241m.\u001b[39mstrip() \u001b[38;5;28;01mfor\u001b[39;00m item \u001b[38;5;129;01min\u001b[39;00m preprocessed \u001b[38;5;28;01mif\u001b[39;00m item\u001b[38;5;241m.\u001b[39mstrip()]   \u001b[38;5;66;03m# removing the white spaces\u001b[39;00m\n\u001b[1;32m---> 10\u001b[0m Ids \u001b[38;5;241m=\u001b[39m [\u001b[38;5;28mself\u001b[39m\u001b[38;5;241m.\u001b[39mstr_to_int[s] \u001b[38;5;28;01mfor\u001b[39;00m s \u001b[38;5;129;01min\u001b[39;00m preprocessed]\n\u001b[0;32m     11\u001b[0m \u001b[38;5;28;01mreturn\u001b[39;00m Ids\n",
      "\u001b[1;31mKeyError\u001b[0m: 'abruptly'"
     ]
    }
   ],
   "source": [
    "tokenizer = TokenizerV1(vocab)\n",
    "text = \"\"\"Why _has_ he chucked painting?\" I asked abruptly.\"\"\"\n",
    "        \n",
    "Ids = tokenizer.encoder(text)\n",
    "print(Ids)"
   ]
  }
 ],
 "metadata": {
  "kernelspec": {
   "display_name": "base",
   "language": "python",
   "name": "python3"
  },
  "language_info": {
   "codemirror_mode": {
    "name": "ipython",
    "version": 3
   },
   "file_extension": ".py",
   "mimetype": "text/x-python",
   "name": "python",
   "nbconvert_exporter": "python",
   "pygments_lexer": "ipython3",
   "version": "3.12.4"
  }
 },
 "nbformat": 4,
 "nbformat_minor": 5
}
